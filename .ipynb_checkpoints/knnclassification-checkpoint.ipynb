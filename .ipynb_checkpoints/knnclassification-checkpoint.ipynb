{
 "cells": [
  {
   "cell_type": "code",
   "execution_count": 4,
   "id": "03d2b168-dee6-4a7b-8f2c-d52cab92be62",
   "metadata": {},
   "outputs": [
    {
     "name": "stdout",
     "output_type": "stream",
     "text": [
      "[2]\n"
     ]
    }
   ],
   "source": [
    "#loading required modules\n",
    "from sklearn import datasets\n",
    "from sklearn.neighbors import KNeighborsClassifier\n",
    "\n",
    "#loading dataset\n",
    "iris=datasets.load_iris()\n",
    "#print(iris.DESCR)\n",
    "\n",
    "features = iris.data\n",
    "labels = iris.target\n",
    "#print(features[0],labels[0])\n",
    "\n",
    "#traning the classifier\n",
    "clf=  KNeighborsClassifier()\n",
    "clf.fit(features,labels)\n",
    "\n",
    "preds=clf.predict([[31,10,2.9,1]])\n",
    "print(preds)\n"
   ]
  },
  {
   "cell_type": "code",
   "execution_count": null,
   "id": "1637168b-089c-4806-bea0-ff4a21f5cd2c",
   "metadata": {},
   "outputs": [],
   "source": []
  }
 ],
 "metadata": {
  "kernelspec": {
   "display_name": "Python 3 (ipykernel)",
   "language": "python",
   "name": "python3"
  },
  "language_info": {
   "codemirror_mode": {
    "name": "ipython",
    "version": 3
   },
   "file_extension": ".py",
   "mimetype": "text/x-python",
   "name": "python",
   "nbconvert_exporter": "python",
   "pygments_lexer": "ipython3",
   "version": "3.12.9"
  }
 },
 "nbformat": 4,
 "nbformat_minor": 5
}
